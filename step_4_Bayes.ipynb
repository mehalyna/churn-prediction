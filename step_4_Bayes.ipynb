{
 "cells": [
  {
   "cell_type": "code",
   "execution_count": 16,
   "metadata": {},
   "outputs": [],
   "source": [
    "import pandas as pd\n",
    "import numpy as np\n",
    "from sklearn.naive_bayes import GaussianNB\n",
    "from sklearn.model_selection import train_test_split\n",
    "import joblib\n",
    "\n",
    "# Function to train Bayesian model and save it\n",
    "def train_and_save_model(data, feature_cols, target_col, model_path='bayesian_churn_model.pkl'):\n",
    "    X = data[feature_cols]\n",
    "    y = data[target_col]\n",
    "\n",
    "    X_train, X_test, y_train, y_test = train_test_split(\n",
    "        X, y, test_size=0.3, random_state=42, stratify=y\n",
    "    )\n",
    "\n",
    "    model = GaussianNB()\n",
    "    model.fit(X_train, y_train)\n",
    "\n",
    "    joblib.dump(model, model_path)\n",
    "    print(f\"Model saved to {model_path}\")\n",
    "\n",
    "# Function to load the model and apply Bayesian decision rules\n",
    "def load_model_and_decide(new_data, feature_cols, model_path='bayesian_churn_model.pkl'):\n",
    "    model = joblib.load(model_path)\n",
    "\n",
    "    churn_probs = model.predict_proba(new_data[feature_cols])[:, 1]\n",
    "\n",
    "    new_data = new_data.copy()\n",
    "    new_data['Churn_Prob'] = churn_probs\n",
    "\n",
    "    # Apply Bayesian decision rule\n",
    "    new_data['Expected_Utility'] = (\n",
    "        new_data['Churn_Prob'] * new_data['CLV'] - new_data['Intervention_Cost']\n",
    "    )\n",
    "\n",
    "    new_data['Intervention'] = np.where(\n",
    "        new_data['Expected_Utility'] > 0, 'send_promotion', 'no_action'\n",
    "    )\n",
    "\n",
    "    return new_data[['Customer_ID', 'Churn_Prob', 'CLV', 'Expected_Utility', 'Intervention']]\n"
   ]
  },
  {
   "cell_type": "code",
   "execution_count": 17,
   "metadata": {},
   "outputs": [
    {
     "name": "stdout",
     "output_type": "stream",
     "text": [
      "Model saved to bayesian_churn_model.pkl\n",
      "     Customer_ID  Churn_Prob          CLV  Expected_Utility    Intervention\n",
      "521          522    0.853181   485.220950        363.981128  send_promotion\n",
      "737          738    0.850199    48.888348         -8.435181       no_action\n",
      "740          741    0.834373   761.231244        585.150511  send_promotion\n",
      "660          661    0.866148   386.284472        284.579594  send_promotion\n",
      "411          412    0.815257  2669.412857       2126.256445  send_promotion\n",
      "678          679    0.892765    67.322727         10.103391  send_promotion\n",
      "626          627    0.358756  5065.028571       1767.109373  send_promotion\n",
      "513          514    0.861120   244.069091        160.172664  send_promotion\n",
      "859          860    0.850557   139.702909         68.825286  send_promotion\n",
      "136          137    0.827102    13.900073        -38.503220       no_action\n"
     ]
    }
   ],
   "source": [
    "# Load processed data\n",
    "data = pd.read_csv('processed_customer_churn_data.csv')\n",
    "\n",
    "# Define feature columns and target\n",
    "feature_columns = [\n",
    "        'Return_Ratio', 'Purchase_Frequency', 'Engagement_Score', 'CLV',\n",
    "        'Gender_Male', 'Promotion_Response_Responded', 'Promotion_Response_Unsubscribed',\n",
    "        'Email_Opt_In_Score'\n",
    "    ]\n",
    "target_column = 'Target_Churn'\n",
    "\n",
    "    # Train and save the model\n",
    "train_and_save_model(data, feature_columns, target_column)\n",
    "\n",
    "    # Load the trained model and apply decision rules to new data\n",
    "test_data = data.sample(n=10, random_state=42)  # Example test subset\n",
    "decisions = load_model_and_decide(test_data, feature_columns)\n",
    "\n",
    "print(decisions)"
   ]
  },
  {
   "cell_type": "code",
   "execution_count": 18,
   "metadata": {},
   "outputs": [],
   "source": [
    "# Load model\n",
    "model = joblib.load('bayesian_churn_model.pkl')\n",
    "\n",
    "# Predict churn probabilities\n",
    "data['Churn_Prob'] = model.predict_proba(data[feature_columns])[:, 1]"
   ]
  },
  {
   "cell_type": "code",
   "execution_count": 19,
   "metadata": {},
   "outputs": [
    {
     "data": {
      "image/png": "[encoded data removed]",
      "text/plain": [
       "<Figure size 1400x500 with 2 Axes>"
      ]
     },
     "metadata": {},
     "output_type": "display_data"
    }
   ],
   "source": [
    "import matplotlib.pyplot as plt\n",
    "\n",
    "plt.figure(figsize=(14, 5))\n",
    "\n",
    "plt.subplot(1, 2, 1)\n",
    "data['CLV'].hist(bins=30)\n",
    "plt.title('Distribution of CLV')\n",
    "\n",
    "plt.subplot(1, 2, 2)\n",
    "data['Churn_Prob'].hist(bins=30)\n",
    "plt.title('Distribution of Churn Probability')\n",
    "\n",
    "plt.show()"
   ]
  },
  {
   "cell_type": "markdown",
   "metadata": {},
   "source": [
    "### Model Estimation and Evaluation\n",
    "\n",
    "The Bayesian classifier’s predictive performance can be quantitatively assessed using several metrics:\n",
    "\n",
    "- **Accuracy** measures the proportion of correct predictions:\n",
    "$$\n",
    "\\text{Accuracy} = \\frac{TP + TN}{TP + FP + TN + FN}\n",
    "$$\n",
    "\n",
    "- **Precision** indicates the proportion of true positives among all positive predictions:\n",
    "\n",
    "$$\\text{Precision} = \\frac{TP}{TP + FP}$$\n",
    "\n",
    "\n",
    "- **Recall** assesses the proportion of true positives correctly identified:\n",
    "\n",
    "$$\\text{Recall} = \\frac{TP}{TP + FN}$$\n",
    "\n",
    "\n",
    "- **F1 Score** provides a harmonic mean of precision and recall:\n",
    "\n",
    "$$\\text{F1 Score} = 2 \\times \\frac{\\text{Precision} \\times \\text{Recall}}{\\text{Precision} + \\text{Recall}}$$\n",
    "\n",
    "\n",
    "where $TP$, $FP$, $TN$, $FN$ represent true positives, false positives, true negatives, and false negatives, respectively."
   ]
  },
  {
   "cell_type": "code",
   "execution_count": 21,
   "metadata": {},
   "outputs": [
    {
     "name": "stdout",
     "output_type": "stream",
     "text": [
      "Accuracy: 0.5200\n",
      "Precision: 0.5241\n",
      "Recall: 0.9620\n",
      "F1 Score: 0.6786\n",
      "Confusion Matrix:\n",
      " [[  4 138]\n",
      " [  6 152]]\n"
     ]
    }
   ],
   "source": [
    "from sklearn.model_selection import train_test_split\n",
    "from sklearn.metrics import accuracy_score, precision_score, recall_score, f1_score, confusion_matrix\n",
    "import joblib\n",
    "\n",
    "# Split data into features and target\n",
    "X = data[feature_columns]\n",
    "y = data[target_column]\n",
    "\n",
    "# Create train-test split (30% for testing)\n",
    "X_train, X_test, y_train, y_test = train_test_split(\n",
    "    X, y, test_size=0.3, random_state=42, stratify=y\n",
    ")\n",
    "\n",
    "# Load trained model\n",
    "model = joblib.load('bayesian_churn_model.pkl')\n",
    "\n",
    "# Predict labels\n",
    "y_pred = model.predict(X_test)\n",
    "\n",
    "# Evaluate model performance\n",
    "accuracy = accuracy_score(y_test, y_pred)\n",
    "precision = precision_score(y_test, y_pred)\n",
    "recall = recall_score(y_test, y_pred)\n",
    "f1 = f1_score(y_test, y_pred)\n",
    "conf_matrix = confusion_matrix(y_test, y_pred)\n",
    "\n",
    "print(f\"Accuracy: {accuracy:.4f}\")\n",
    "print(f\"Precision: {precision:.4f}\")\n",
    "print(f\"Recall: {recall:.4f}\")\n",
    "print(f\"F1 Score: {f1:.4f}\")\n",
    "print(\"Confusion Matrix:\\n\", conf_matrix)\n"
   ]
  },
  {
   "cell_type": "code",
   "execution_count": 22,
   "metadata": {},
   "outputs": [
    {
     "name": "stdout",
     "output_type": "stream",
     "text": [
      "Target_Churn\n",
      "True     0.526\n",
      "False    0.474\n",
      "Name: proportion, dtype: float64\n"
     ]
    }
   ],
   "source": [
    "print(y.value_counts(normalize=True))"
   ]
  },
  {
   "cell_type": "code",
   "execution_count": 23,
   "metadata": {},
   "outputs": [
    {
     "name": "stdout",
     "output_type": "stream",
     "text": [
      "Precision: 0.5243055555555556\n",
      "Recall: 0.9556962025316456\n",
      "F1 Score: 0.6771300448430493\n"
     ]
    }
   ],
   "source": [
    "y_prob = model.predict_proba(X_test)[:, 1]  # Get churn probabilities\n",
    "\n",
    "# Set a higher threshold (e.g., 0.7 instead of 0.5)\n",
    "threshold = 0.7\n",
    "y_pred_thresholded = (y_prob >= threshold).astype(int)\n",
    "\n",
    "# Re-evaluate\n",
    "print(\"Precision:\", precision_score(y_test, y_pred_thresholded))\n",
    "print(\"Recall:\", recall_score(y_test, y_pred_thresholded))\n",
    "print(\"F1 Score:\", f1_score(y_test, y_pred_thresholded))\n"
   ]
  }
 ],
 "metadata": {
  "kernelspec": {
   "display_name": "Python 3",
   "language": "python",
   "name": "python3"
  },
  "language_info": {
   "codemirror_mode": {
    "name": "ipython",
    "version": 3
   },
   "file_extension": ".py",
   "mimetype": "text/x-python",
   "name": "python",
   "nbconvert_exporter": "python",
   "pygments_lexer": "ipython3",
   "version": "3.11.4"
  }
 },
 "nbformat": 4,
 "nbformat_minor": 2
}
